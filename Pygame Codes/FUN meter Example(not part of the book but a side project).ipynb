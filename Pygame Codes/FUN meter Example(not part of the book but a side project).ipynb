{
 "cells": [
  {
   "cell_type": "code",
   "execution_count": 1,
   "id": "7eca55e4",
   "metadata": {},
   "outputs": [
    {
     "name": "stdout",
     "output_type": "stream",
     "text": [
      "pygame 2.0.1 (SDL 2.0.14, Python 3.8.8)\n",
      "Hello from the pygame community. https://www.pygame.org/contribute.html\n"
     ]
    }
   ],
   "source": [
    "#import\n",
    "import pygame\n",
    "import random"
   ]
  },
  {
   "cell_type": "code",
   "execution_count": 2,
   "id": "4c1050a4",
   "metadata": {},
   "outputs": [],
   "source": [
    "black = (0, 0, 0)\n",
    "#\n",
    "gray = (127, 127, 127)\n",
    "white = (255, 255, 255)\n",
    "\n",
    "#used\n",
    "red = (255, 0, 0)\n",
    "\n",
    "green = (0, 255, 0)\n",
    "\n",
    "#used\n",
    "blue = (0, 0, 255)\n",
    "\n",
    "#used\n",
    "yellow = (255, 255, 0)\n",
    "\n",
    "#used\n",
    "cyan = (0, 255, 255)\n",
    "\n",
    "#used\n",
    "magenta = (255, 0, 255)"
   ]
  },
  {
   "cell_type": "code",
   "execution_count": 3,
   "id": "c16697dd",
   "metadata": {},
   "outputs": [],
   "source": [
    "#display size and display and title\n",
    "display = pygame.display.set_mode((600,600))\n",
    "pygame.display.set_caption('fun_meter')"
   ]
  },
  {
   "cell_type": "code",
   "execution_count": 4,
   "id": "14c2328a",
   "metadata": {},
   "outputs": [
    {
     "data": {
      "text/plain": [
       "<rect(0, 0, 600, 600)>"
      ]
     },
     "execution_count": 4,
     "metadata": {},
     "output_type": "execute_result"
    }
   ],
   "source": [
    "#background fill and pygame initalize\n",
    "pygame.init()\n",
    "display.fill(white)"
   ]
  },
  {
   "cell_type": "code",
   "execution_count": 5,
   "id": "c774f3d1",
   "metadata": {},
   "outputs": [],
   "source": [
    "chance = random.randint(1,100)\n",
    "fun = random.randint(1,100)"
   ]
  },
  {
   "cell_type": "code",
   "execution_count": null,
   "id": "923615f4",
   "metadata": {},
   "outputs": [],
   "source": [
    "###########################################################################"
   ]
  },
  {
   "cell_type": "code",
   "execution_count": 6,
   "id": "c200c10c",
   "metadata": {},
   "outputs": [
    {
     "data": {
      "text/plain": [
       "98"
      ]
     },
     "execution_count": 6,
     "metadata": {},
     "output_type": "execute_result"
    }
   ],
   "source": [
    "#chance value\n",
    "chance"
   ]
  },
  {
   "cell_type": "code",
   "execution_count": 7,
   "id": "ef6f97a2",
   "metadata": {},
   "outputs": [
    {
     "data": {
      "text/plain": [
       "79"
      ]
     },
     "execution_count": 7,
     "metadata": {},
     "output_type": "execute_result"
    }
   ],
   "source": [
    "#fun value\n",
    "fun"
   ]
  },
  {
   "cell_type": "code",
   "execution_count": null,
   "id": "86b9b4a5",
   "metadata": {},
   "outputs": [],
   "source": [
    "###########################################################################################"
   ]
  },
  {
   "cell_type": "code",
   "execution_count": 8,
   "id": "4a1d8ee9",
   "metadata": {},
   "outputs": [],
   "source": [
    "#what generates\n",
    "if fun <=39 :\n",
    "    if chance >= 50:\n",
    "        pygame.draw.rect(display, blue, (100,400,100,100))\n",
    "elif fun <= 45:\n",
    "    if chance >= 50:\n",
    "        pygame.draw.rect(display, red, (100,400,100,100))\n",
    "elif fun <= 50:\n",
    "    if chance >= 50:\n",
    "        pygame.draw.rect(display, cyan, (100,400,100,100))\n",
    "elif fun == 66:\n",
    "    if chance >= 50:\n",
    "        pygame.draw.rect(display, yellow, (100,400,100,100))\n",
    "elif fun <= 89:\n",
    "    if chance >= 50:\n",
    "        pygame.draw.rect(display, magenta, (100,400,100,100))\n",
    "elif fun >=  95:\n",
    "    if chance >= 50:    \n",
    "        pygame.draw.rect(display, gray, (100,400,100,100))\n",
    "    "
   ]
  },
  {
   "cell_type": "code",
   "execution_count": 9,
   "id": "af4f6c45",
   "metadata": {},
   "outputs": [
    {
     "ename": "error",
     "evalue": "video system not initialized",
     "output_type": "error",
     "traceback": [
      "\u001b[1;31m---------------------------------------------------------------------------\u001b[0m",
      "\u001b[1;31merror\u001b[0m                                     Traceback (most recent call last)",
      "\u001b[1;32m<ipython-input-9-459fc1284766>\u001b[0m in \u001b[0;36m<module>\u001b[1;34m\u001b[0m\n\u001b[0;32m     14\u001b[0m \u001b[1;33m\u001b[0m\u001b[0m\n\u001b[0;32m     15\u001b[0m \u001b[1;33m\u001b[0m\u001b[0m\n\u001b[1;32m---> 16\u001b[1;33m         \u001b[0mpygame\u001b[0m\u001b[1;33m.\u001b[0m\u001b[0mdisplay\u001b[0m\u001b[1;33m.\u001b[0m\u001b[0mupdate\u001b[0m\u001b[1;33m(\u001b[0m\u001b[1;33m)\u001b[0m\u001b[1;33m\u001b[0m\u001b[1;33m\u001b[0m\u001b[0m\n\u001b[0m\u001b[0;32m     17\u001b[0m \u001b[1;33m\u001b[0m\u001b[0m\n",
      "\u001b[1;31merror\u001b[0m: video system not initialized"
     ]
    }
   ],
   "source": [
    "#infinite loop for the game to work by making an infinite session\n",
    "from sys import exit\n",
    "loop =  True\n",
    "while loop:\n",
    "    keys = pygame.key.get_pressed()\n",
    "    \n",
    "    for event in pygame.event.get():\n",
    "        if event.type == pygame.QUIT:\n",
    "            pygame.quit()\n",
    "            quit()\n",
    "        if event.type == pygame.KEYDOWN:\n",
    "            if event.key == pygame.K_ESCAPE:\n",
    "                pygame.quit()\n",
    "                \n",
    "            \n",
    "        pygame.display.update() \n",
    "    "
   ]
  },
  {
   "cell_type": "code",
   "execution_count": null,
   "id": "1e0fa5a6",
   "metadata": {},
   "outputs": [],
   "source": []
  },
  {
   "cell_type": "code",
   "execution_count": null,
   "id": "09a1eff9",
   "metadata": {},
   "outputs": [],
   "source": []
  }
 ],
 "metadata": {
  "kernelspec": {
   "display_name": "Python 3",
   "language": "python",
   "name": "python3"
  },
  "language_info": {
   "codemirror_mode": {
    "name": "ipython",
    "version": 3
   },
   "file_extension": ".py",
   "mimetype": "text/x-python",
   "name": "python",
   "nbconvert_exporter": "python",
   "pygments_lexer": "ipython3",
   "version": "3.8.8"
  }
 },
 "nbformat": 4,
 "nbformat_minor": 5
}
