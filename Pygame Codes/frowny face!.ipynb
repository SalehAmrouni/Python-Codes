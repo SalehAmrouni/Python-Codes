{
 "cells": [
  {
   "cell_type": "code",
   "execution_count": 1,
   "id": "d268356b",
   "metadata": {},
   "outputs": [
    {
     "name": "stdout",
     "output_type": "stream",
     "text": [
      "pygame 2.0.1 (SDL 2.0.14, Python 3.8.8)\n",
      "Hello from the pygame community. https://www.pygame.org/contribute.html\n"
     ]
    }
   ],
   "source": [
    "#imports\n",
    "import pygame\n",
    "import math"
   ]
  },
  {
   "cell_type": "code",
   "execution_count": 2,
   "id": "d2f503d0",
   "metadata": {},
   "outputs": [
    {
     "data": {
      "text/plain": [
       "(7, 0)"
      ]
     },
     "execution_count": 2,
     "metadata": {},
     "output_type": "execute_result"
    }
   ],
   "source": [
    "#pygame initalize\n",
    "pygame.init()"
   ]
  },
  {
   "cell_type": "code",
   "execution_count": 3,
   "id": "416c361d",
   "metadata": {},
   "outputs": [],
   "source": [
    "#colors\n",
    "white = (255,255,255)\n",
    "yellow = (255,255,0)\n",
    "red = (255,0,0)"
   ]
  },
  {
   "cell_type": "code",
   "execution_count": 4,
   "id": "79df8233",
   "metadata": {},
   "outputs": [],
   "source": [
    "#dimensions\n",
    "dimensions = (300,300)"
   ]
  },
  {
   "cell_type": "code",
   "execution_count": 5,
   "id": "040dc300",
   "metadata": {},
   "outputs": [],
   "source": [
    "#display\n",
    "display = pygame.display.set_mode(dimensions)"
   ]
  },
  {
   "cell_type": "code",
   "execution_count": 6,
   "id": "461cc2e3",
   "metadata": {},
   "outputs": [],
   "source": [
    "#title of game\n",
    "pygame.display.set_caption('frowny face!')"
   ]
  },
  {
   "cell_type": "code",
   "execution_count": 7,
   "id": "97ad6cf2",
   "metadata": {},
   "outputs": [
    {
     "data": {
      "text/plain": [
       "<rect(0, 0, 300, 300)>"
      ]
     },
     "execution_count": 7,
     "metadata": {},
     "output_type": "execute_result"
    }
   ],
   "source": [
    "#background\n",
    "display.fill(white)"
   ]
  },
  {
   "cell_type": "code",
   "execution_count": 8,
   "id": "7a104f1e",
   "metadata": {},
   "outputs": [
    {
     "data": {
      "text/plain": [
       "<rect(100, 100, 100, 100)>"
      ]
     },
     "execution_count": 8,
     "metadata": {},
     "output_type": "execute_result"
    }
   ],
   "source": [
    "#face\n",
    "pygame.draw.circle(display, yellow, (150, 150), 50, 0)"
   ]
  },
  {
   "cell_type": "code",
   "execution_count": 9,
   "id": "87b6bb91",
   "metadata": {},
   "outputs": [
    {
     "data": {
      "text/plain": [
       "<rect(120, 130, 20, 20)>"
      ]
     },
     "execution_count": 9,
     "metadata": {},
     "output_type": "execute_result"
    }
   ],
   "source": [
    "#left eye\n",
    "pygame.draw.circle(display, red, (130, 140), 10, 0)"
   ]
  },
  {
   "cell_type": "code",
   "execution_count": 10,
   "id": "042be510",
   "metadata": {},
   "outputs": [
    {
     "data": {
      "text/plain": [
       "<rect(160, 130, 20, 20)>"
      ]
     },
     "execution_count": 10,
     "metadata": {},
     "output_type": "execute_result"
    }
   ],
   "source": [
    "#right eye\n",
    "pygame.draw.circle(display, red, (170, 140), 10, 0)"
   ]
  },
  {
   "cell_type": "code",
   "execution_count": 11,
   "id": "9cca136c",
   "metadata": {},
   "outputs": [
    {
     "data": {
      "text/plain": [
       "<rect(135, 175, 31, 13)>"
      ]
     },
     "execution_count": 11,
     "metadata": {},
     "output_type": "execute_result"
    }
   ],
   "source": [
    "#mouth\n",
    "pygame.draw.arc(display,red, (135, 175,30,25),0,math.pi,width=1)"
   ]
  },
  {
   "cell_type": "code",
   "execution_count": 12,
   "id": "eaeff9d9",
   "metadata": {},
   "outputs": [
    {
     "ename": "error",
     "evalue": "video system not initialized",
     "output_type": "error",
     "traceback": [
      "\u001b[1;31m---------------------------------------------------------------------------\u001b[0m",
      "\u001b[1;31merror\u001b[0m                                     Traceback (most recent call last)",
      "\u001b[1;32m<ipython-input-12-c92b83b77edc>\u001b[0m in \u001b[0;36m<module>\u001b[1;34m\u001b[0m\n\u001b[0;32m      4\u001b[0m             \u001b[0mpygame\u001b[0m\u001b[1;33m.\u001b[0m\u001b[0mquit\u001b[0m\u001b[1;33m(\u001b[0m\u001b[1;33m)\u001b[0m\u001b[1;33m\u001b[0m\u001b[1;33m\u001b[0m\u001b[0m\n\u001b[0;32m      5\u001b[0m             \u001b[0mquit\u001b[0m\u001b[1;33m(\u001b[0m\u001b[1;33m)\u001b[0m\u001b[1;33m\u001b[0m\u001b[1;33m\u001b[0m\u001b[0m\n\u001b[1;32m----> 6\u001b[1;33m         \u001b[0mpygame\u001b[0m\u001b[1;33m.\u001b[0m\u001b[0mdisplay\u001b[0m\u001b[1;33m.\u001b[0m\u001b[0mupdate\u001b[0m\u001b[1;33m(\u001b[0m\u001b[1;33m)\u001b[0m\u001b[1;33m\u001b[0m\u001b[1;33m\u001b[0m\u001b[0m\n\u001b[0m",
      "\u001b[1;31merror\u001b[0m: video system not initialized"
     ]
    }
   ],
   "source": [
    "#infinite loop for game\n",
    "while True:  \n",
    "    for event in pygame.event.get():\n",
    "        if event.type == pygame.QUIT:\n",
    "            pygame.quit()\n",
    "            quit()\n",
    "        pygame.display.update() "
   ]
  },
  {
   "cell_type": "code",
   "execution_count": null,
   "id": "e4ababa7",
   "metadata": {},
   "outputs": [],
   "source": []
  }
 ],
 "metadata": {
  "kernelspec": {
   "display_name": "Python 3",
   "language": "python",
   "name": "python3"
  },
  "language_info": {
   "codemirror_mode": {
    "name": "ipython",
    "version": 3
   },
   "file_extension": ".py",
   "mimetype": "text/x-python",
   "name": "python",
   "nbconvert_exporter": "python",
   "pygments_lexer": "ipython3",
   "version": "3.8.8"
  }
 },
 "nbformat": 4,
 "nbformat_minor": 5
}
