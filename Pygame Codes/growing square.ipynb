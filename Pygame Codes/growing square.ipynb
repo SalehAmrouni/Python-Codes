{
 "cells": [
  {
   "cell_type": "code",
   "execution_count": 1,
   "id": "216e3b0d",
   "metadata": {},
   "outputs": [
    {
     "name": "stdout",
     "output_type": "stream",
     "text": [
      "pygame 2.0.1 (SDL 2.0.14, Python 3.8.8)\n",
      "Hello from the pygame community. https://www.pygame.org/contribute.html\n"
     ]
    }
   ],
   "source": [
    "#imports\n",
    "import pygame"
   ]
  },
  {
   "cell_type": "code",
   "execution_count": 2,
   "id": "019ef940",
   "metadata": {},
   "outputs": [],
   "source": [
    "#frames\n",
    "fps = 50"
   ]
  },
  {
   "cell_type": "code",
   "execution_count": 3,
   "id": "18d6b967",
   "metadata": {},
   "outputs": [],
   "source": [
    "#colors\n",
    "white = (255,255,255)\n",
    "red = (255,0,0)"
   ]
  },
  {
   "cell_type": "code",
   "execution_count": 4,
   "id": "a16f1bf9",
   "metadata": {},
   "outputs": [],
   "source": [
    "#clock for frames\n",
    "clock = pygame.time.Clock()"
   ]
  },
  {
   "cell_type": "code",
   "execution_count": 5,
   "id": "21006c94",
   "metadata": {},
   "outputs": [],
   "source": [
    "#display and size for display also the name of the program\n",
    "display = pygame.display.set_mode((600,600))\n",
    "pygame.display.set_caption('GROWING SQUARE')"
   ]
  },
  {
   "cell_type": "code",
   "execution_count": null,
   "id": "6712c412",
   "metadata": {},
   "outputs": [],
   "source": [
    "#size of square\n",
    "size = 50"
   ]
  },
  {
   "cell_type": "code",
   "execution_count": null,
   "id": "352df519",
   "metadata": {},
   "outputs": [],
   "source": [
    "#infinite loop and addition of the cubes size to make it grow\n",
    "loop = True\n",
    "while loop:\n",
    "    for event in pygame.event.get():\n",
    "        if event.type == pygame.QUIT:\n",
    "            loop = 0\n",
    "    pygame.draw.rect(display,red,(250, 250, side,side))\n",
    "    pygame.display.update() \n",
    "    \n",
    "    clock.tick(fps)\n",
    "    #grow\n",
    "    size = 1.01 * side\n",
    "    #background fill\n",
    "    display.fill(white)\n",
    "pygame.quit()    "
   ]
  },
  {
   "cell_type": "code",
   "execution_count": null,
   "id": "7bb896cd",
   "metadata": {},
   "outputs": [],
   "source": []
  }
 ],
 "metadata": {
  "kernelspec": {
   "display_name": "Python 3",
   "language": "python",
   "name": "python3"
  },
  "language_info": {
   "codemirror_mode": {
    "name": "ipython",
    "version": 3
   },
   "file_extension": ".py",
   "mimetype": "text/x-python",
   "name": "python",
   "nbconvert_exporter": "python",
   "pygments_lexer": "ipython3",
   "version": "3.8.8"
  }
 },
 "nbformat": 4,
 "nbformat_minor": 5
}
