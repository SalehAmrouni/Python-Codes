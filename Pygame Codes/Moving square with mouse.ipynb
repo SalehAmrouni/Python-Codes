{
 "cells": [
  {
   "cell_type": "code",
   "execution_count": 1,
   "id": "32bdc89a",
   "metadata": {},
   "outputs": [
    {
     "name": "stdout",
     "output_type": "stream",
     "text": [
      "pygame 2.0.1 (SDL 2.0.14, Python 3.8.8)\n",
      "Hello from the pygame community. https://www.pygame.org/contribute.html\n"
     ]
    }
   ],
   "source": [
    "#imports\n",
    "import pygame\n",
    "import sys"
   ]
  },
  {
   "cell_type": "code",
   "execution_count": 2,
   "id": "c5209b92",
   "metadata": {},
   "outputs": [
    {
     "data": {
      "text/plain": [
       "(7, 0)"
      ]
     },
     "execution_count": 2,
     "metadata": {},
     "output_type": "execute_result"
    }
   ],
   "source": [
    "#initalize pygame display\n",
    "pygame.init()"
   ]
  },
  {
   "cell_type": "code",
   "execution_count": 3,
   "id": "e67f12a2",
   "metadata": {},
   "outputs": [],
   "source": [
    "#frames\n",
    "fps = 30"
   ]
  },
  {
   "cell_type": "code",
   "execution_count": 4,
   "id": "7b31bd47",
   "metadata": {},
   "outputs": [],
   "source": [
    "#clock for frames controll\n",
    "fpsclock = pygame.time.Clock()"
   ]
  },
  {
   "cell_type": "code",
   "execution_count": 5,
   "id": "7a8cced7",
   "metadata": {},
   "outputs": [],
   "source": [
    "#size of window and display also title\n",
    "surface = pygame.display.set_mode((500,500))\n",
    "pygame.display.set_caption('moving sqaure(mouse edition)!!!')"
   ]
  },
  {
   "cell_type": "code",
   "execution_count": 6,
   "id": "6f52c4e6",
   "metadata": {},
   "outputs": [],
   "source": [
    "#colors\n",
    "white = (255,255,255)\n",
    "red = (255,0,0)\n",
    "black = (0,0,0)"
   ]
  },
  {
   "cell_type": "code",
   "execution_count": 7,
   "id": "f36561c2",
   "metadata": {},
   "outputs": [],
   "source": [
    "#coordinites\n",
    "x=10\n",
    "y=10"
   ]
  },
  {
   "cell_type": "code",
   "execution_count": 8,
   "id": "c6c4f7e4",
   "metadata": {},
   "outputs": [],
   "source": [
    "#update of coordinates\n",
    "step = 5"
   ]
  },
  {
   "cell_type": "code",
   "execution_count": 9,
   "id": "9548e8cd",
   "metadata": {},
   "outputs": [],
   "source": [
    "#color again\n",
    "color = red"
   ]
  },
  {
   "cell_type": "code",
   "execution_count": 10,
   "id": "9896cf1f",
   "metadata": {},
   "outputs": [
    {
     "ename": "error",
     "evalue": "video system not initialized",
     "output_type": "error",
     "traceback": [
      "\u001b[1;31m---------------------------------------------------------------------------\u001b[0m",
      "\u001b[1;31merror\u001b[0m                                     Traceback (most recent call last)",
      "\u001b[1;32m<ipython-input-10-78f81376586c>\u001b[0m in \u001b[0;36m<module>\u001b[1;34m\u001b[0m\n\u001b[0;32m     13\u001b[0m             \u001b[1;32mif\u001b[0m \u001b[0mevent\u001b[0m\u001b[1;33m.\u001b[0m\u001b[0mbutton\u001b[0m \u001b[1;33m==\u001b[0m \u001b[1;36m1\u001b[0m\u001b[1;33m:\u001b[0m\u001b[1;33m\u001b[0m\u001b[1;33m\u001b[0m\u001b[0m\n\u001b[0;32m     14\u001b[0m                 \u001b[0mcolor\u001b[0m \u001b[1;33m=\u001b[0m \u001b[0mred\u001b[0m\u001b[1;33m\u001b[0m\u001b[1;33m\u001b[0m\u001b[0m\n\u001b[1;32m---> 15\u001b[1;33m         \u001b[0mpygame\u001b[0m\u001b[1;33m.\u001b[0m\u001b[0mdisplay\u001b[0m\u001b[1;33m.\u001b[0m\u001b[0mupdate\u001b[0m\u001b[1;33m(\u001b[0m\u001b[1;33m)\u001b[0m\u001b[1;33m\u001b[0m\u001b[1;33m\u001b[0m\u001b[0m\n\u001b[0m\u001b[0;32m     16\u001b[0m         \u001b[0mfpsclock\u001b[0m\u001b[1;33m.\u001b[0m\u001b[0mtick\u001b[0m\u001b[1;33m(\u001b[0m\u001b[0mfps\u001b[0m\u001b[1;33m)\u001b[0m\u001b[1;33m\u001b[0m\u001b[1;33m\u001b[0m\u001b[0m\n\u001b[0;32m     17\u001b[0m \u001b[1;33m\u001b[0m\u001b[0m\n",
      "\u001b[1;31merror\u001b[0m: video system not initialized"
     ]
    }
   ],
   "source": [
    "#infinite loop for game and mouse controlls\n",
    "while True:\n",
    "    surface.fill(white)\n",
    "    pygame.draw.rect(surface,color,(x,y,70,65))\n",
    "    for event in pygame.event.get():\n",
    "        if event.type==pygame.QUIT:\n",
    "            pygame.quit()\n",
    "        elif event.type == pygame.MOUSEMOTION:\n",
    "            x,y = event.pos[0], event.pos[1]\n",
    "        elif event.type == pygame.MOUSEBUTTONDOWN:\n",
    "            if event.button == 1:\n",
    "                color = black\n",
    "        elif event.type == pygame.MOUSEBUTTONUP:\n",
    "            if event.button == 1:\n",
    "                color = red\n",
    "        pygame.display.update()\n",
    "        fpsclock.tick(fps)\n",
    "        \n",
    "        "
   ]
  },
  {
   "cell_type": "code",
   "execution_count": null,
   "id": "ead25ea3",
   "metadata": {},
   "outputs": [],
   "source": []
  }
 ],
 "metadata": {
  "kernelspec": {
   "display_name": "Python 3",
   "language": "python",
   "name": "python3"
  },
  "language_info": {
   "codemirror_mode": {
    "name": "ipython",
    "version": 3
   },
   "file_extension": ".py",
   "mimetype": "text/x-python",
   "name": "python",
   "nbconvert_exporter": "python",
   "pygments_lexer": "ipython3",
   "version": "3.8.8"
  }
 },
 "nbformat": 4,
 "nbformat_minor": 5
}
