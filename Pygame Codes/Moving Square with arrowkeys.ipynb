{
 "cells": [
  {
   "cell_type": "code",
   "execution_count": 1,
   "id": "2e18e543",
   "metadata": {},
   "outputs": [
    {
     "name": "stdout",
     "output_type": "stream",
     "text": [
      "pygame 2.0.1 (SDL 2.0.14, Python 3.8.8)\n",
      "Hello from the pygame community. https://www.pygame.org/contribute.html\n"
     ]
    }
   ],
   "source": [
    "#imports\n",
    "import pygame\n",
    "import sys"
   ]
  },
  {
   "cell_type": "code",
   "execution_count": 2,
   "id": "6bb51933",
   "metadata": {},
   "outputs": [
    {
     "data": {
      "text/plain": [
       "<function pygame.base.init>"
      ]
     },
     "execution_count": 2,
     "metadata": {},
     "output_type": "execute_result"
    }
   ],
   "source": [
    "#initalize pygame display\n",
    "pygame.init"
   ]
  },
  {
   "cell_type": "code",
   "execution_count": 3,
   "id": "5dfdef3d",
   "metadata": {},
   "outputs": [],
   "source": [
    "#frames\n",
    "fps = 30"
   ]
  },
  {
   "cell_type": "code",
   "execution_count": 4,
   "id": "b46e712f",
   "metadata": {},
   "outputs": [],
   "source": [
    "#colors\n",
    "white = (255,255,255)\n",
    "red = (255,0,0)"
   ]
  },
  {
   "cell_type": "code",
   "execution_count": 5,
   "id": "2f93c12c",
   "metadata": {},
   "outputs": [],
   "source": [
    "#clock for frames controll\n",
    "fpsclock = pygame.time.Clock()"
   ]
  },
  {
   "cell_type": "code",
   "execution_count": 6,
   "id": "0612f9b7",
   "metadata": {},
   "outputs": [],
   "source": [
    "#size of window and display also title\n",
    "surface = pygame.display.set_mode((500,500))\n",
    "pygame.display.set_caption('moving sqaure!!!')"
   ]
  },
  {
   "cell_type": "code",
   "execution_count": 7,
   "id": "4647437f",
   "metadata": {},
   "outputs": [],
   "source": [
    "#coordinites\n",
    "x=10\n",
    "y=10"
   ]
  },
  {
   "cell_type": "code",
   "execution_count": 8,
   "id": "aad9257a",
   "metadata": {},
   "outputs": [],
   "source": [
    "#update of coordinates\n",
    "step = 5"
   ]
  },
  {
   "cell_type": "code",
   "execution_count": 9,
   "id": "3e53fdc4",
   "metadata": {},
   "outputs": [
    {
     "ename": "error",
     "evalue": "video system not initialized",
     "output_type": "error",
     "traceback": [
      "\u001b[1;31m---------------------------------------------------------------------------\u001b[0m",
      "\u001b[1;31merror\u001b[0m                                     Traceback (most recent call last)",
      "\u001b[1;32m<ipython-input-9-2de09351161a>\u001b[0m in \u001b[0;36m<module>\u001b[1;34m\u001b[0m\n\u001b[0;32m     14\u001b[0m             \u001b[1;32melif\u001b[0m \u001b[0mevent\u001b[0m\u001b[1;33m.\u001b[0m\u001b[0mkey\u001b[0m \u001b[1;33m==\u001b[0m \u001b[0mpygame\u001b[0m\u001b[1;33m.\u001b[0m\u001b[0mK_DOWN\u001b[0m\u001b[1;33m:\u001b[0m\u001b[1;33m\u001b[0m\u001b[1;33m\u001b[0m\u001b[0m\n\u001b[0;32m     15\u001b[0m                 \u001b[0my\u001b[0m\u001b[1;33m+=\u001b[0m \u001b[0mstep\u001b[0m\u001b[1;33m\u001b[0m\u001b[1;33m\u001b[0m\u001b[0m\n\u001b[1;32m---> 16\u001b[1;33m         \u001b[0mpygame\u001b[0m\u001b[1;33m.\u001b[0m\u001b[0mdisplay\u001b[0m\u001b[1;33m.\u001b[0m\u001b[0mupdate\u001b[0m\u001b[1;33m(\u001b[0m\u001b[1;33m)\u001b[0m\u001b[1;33m\u001b[0m\u001b[1;33m\u001b[0m\u001b[0m\n\u001b[0m\u001b[0;32m     17\u001b[0m         \u001b[0mfpsclock\u001b[0m\u001b[1;33m.\u001b[0m\u001b[0mtick\u001b[0m\u001b[1;33m(\u001b[0m\u001b[0mfps\u001b[0m\u001b[1;33m)\u001b[0m\u001b[1;33m\u001b[0m\u001b[1;33m\u001b[0m\u001b[0m\n\u001b[0;32m     18\u001b[0m \u001b[1;33m\u001b[0m\u001b[0m\n",
      "\u001b[1;31merror\u001b[0m: video system not initialized"
     ]
    }
   ],
   "source": [
    "#infinite loop for game and arrow key controlls\n",
    "while True:\n",
    "    surface.fill(white)\n",
    "    pygame.draw.rect(surface, (255,0,0), (x,y,70,65))\n",
    "    for event in pygame.event.get():\n",
    "        if event.type==pygame.QUIT:\n",
    "            pygame.quit()\n",
    "        elif event.type == pygame.KEYDOWN:\n",
    "            if event.key==pygame.K_LEFT:\n",
    "                x -= step\n",
    "            elif event.key==pygame.K_UP:\n",
    "                y -= step\n",
    "            elif event.key==pygame.K_RIGHT:\n",
    "                x+=step\n",
    "            elif event.key == pygame.K_DOWN:\n",
    "                y+= step\n",
    "        pygame.display.update()\n",
    "        fpsclock.tick(fps)\n",
    "        \n",
    "        "
   ]
  }
 ],
 "metadata": {
  "kernelspec": {
   "display_name": "Python 3",
   "language": "python",
   "name": "python3"
  },
  "language_info": {
   "codemirror_mode": {
    "name": "ipython",
    "version": 3
   },
   "file_extension": ".py",
   "mimetype": "text/x-python",
   "name": "python",
   "nbconvert_exporter": "python",
   "pygments_lexer": "ipython3",
   "version": "3.8.8"
  }
 },
 "nbformat": 4,
 "nbformat_minor": 5
}
