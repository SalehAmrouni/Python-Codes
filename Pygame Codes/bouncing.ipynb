{
 "cells": [
  {
   "cell_type": "code",
   "execution_count": 1,
   "id": "7483e468",
   "metadata": {},
   "outputs": [
    {
     "name": "stdout",
     "output_type": "stream",
     "text": [
      "pygame 2.0.1 (SDL 2.0.14, Python 3.8.8)\n",
      "Hello from the pygame community. https://www.pygame.org/contribute.html\n"
     ]
    }
   ],
   "source": [
    "#imports\n",
    "import pygame\n",
    "import random"
   ]
  },
  {
   "cell_type": "code",
   "execution_count": 2,
   "id": "41a5cea5",
   "metadata": {},
   "outputs": [],
   "source": [
    "#frames\n",
    "fps = 120"
   ]
  },
  {
   "cell_type": "code",
   "execution_count": 3,
   "id": "9c2babc2",
   "metadata": {},
   "outputs": [],
   "source": [
    "#colors\n",
    "white = (255,255,255)\n",
    "red = (255,0,0)"
   ]
  },
  {
   "cell_type": "code",
   "execution_count": 4,
   "id": "6394fb41",
   "metadata": {},
   "outputs": [],
   "source": [
    "#clock for fps\n",
    "clock = pygame.time.Clock()"
   ]
  },
  {
   "cell_type": "code",
   "execution_count": 5,
   "id": "ec97f9ad",
   "metadata": {},
   "outputs": [],
   "source": [
    "#display size and display and title\n",
    "display = pygame.display.set_mode((500,500))\n",
    "pygame.display.set_caption('Bouncing Ball!!!')"
   ]
  },
  {
   "cell_type": "code",
   "execution_count": 6,
   "id": "8a4ccb37",
   "metadata": {},
   "outputs": [
    {
     "data": {
      "text/plain": [
       "<rect(0, 0, 500, 500)>"
      ]
     },
     "execution_count": 6,
     "metadata": {},
     "output_type": "execute_result"
    }
   ],
   "source": [
    "#initialize pygame and background fill\n",
    "pygame.init()\n",
    "display.fill(white)"
   ]
  },
  {
   "cell_type": "code",
   "execution_count": 7,
   "id": "a428e7f3",
   "metadata": {},
   "outputs": [],
   "source": [
    "#coordiniates\n",
    "x = random.randint(0, 500)\n",
    "y = random.randint(0,500)\n",
    "stepx = 1\n",
    "stepy = 1"
   ]
  },
  {
   "cell_type": "code",
   "execution_count": 8,
   "id": "4ea71048",
   "metadata": {},
   "outputs": [],
   "source": [
    "#function for bounceing the ball\n",
    "def bounce():\n",
    "    global stepx, stepy, x,y\n",
    "    \n",
    "    if x > 480 or x < 20:\n",
    "        stepx = -1 * stepx\n",
    "    if y > 480 or y < 20:\n",
    "        stepy = -1 * stepy\n",
    "    x += stepx\n",
    "    y += stepy"
   ]
  },
  {
   "cell_type": "code",
   "execution_count": null,
   "id": "8ff778bf",
   "metadata": {},
   "outputs": [],
   "source": [
    "#infinite loop\n",
    "loop = True\n",
    "while loop:\n",
    "    \n",
    "    for event in pygame.event.get():\n",
    "        if event.type == pygame.QUIT:\n",
    "            loop = False\n",
    "    #our circle being drawn x and y positions assighned here\n",
    "    \n",
    "    pygame.draw.circle(display, red,(x,y),20)\n",
    "    \n",
    "    #our function\n",
    "    \n",
    "    bounce()\n",
    "    \n",
    "    pygame.display.update()\n",
    "    \n",
    "    clock.tick(fps)\n",
    "    \n",
    "    display.fill(white)\n",
    "    \n",
    "pygame.quit()"
   ]
  }
 ],
 "metadata": {
  "kernelspec": {
   "display_name": "Python 3",
   "language": "python",
   "name": "python3"
  },
  "language_info": {
   "codemirror_mode": {
    "name": "ipython",
    "version": 3
   },
   "file_extension": ".py",
   "mimetype": "text/x-python",
   "name": "python",
   "nbconvert_exporter": "python",
   "pygments_lexer": "ipython3",
   "version": "3.8.8"
  }
 },
 "nbformat": 4,
 "nbformat_minor": 5
}
