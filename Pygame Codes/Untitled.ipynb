{
 "cells": [
  {
   "cell_type": "code",
   "execution_count": 1,
   "id": "12dfd6b4",
   "metadata": {},
   "outputs": [
    {
     "name": "stdout",
     "output_type": "stream",
     "text": [
      "pygame 2.0.1 (SDL 2.0.14, Python 3.8.8)\n",
      "Hello from the pygame community. https://www.pygame.org/contribute.html\n"
     ]
    }
   ],
   "source": [
    "import pygame"
   ]
  },
  {
   "cell_type": "code",
   "execution_count": null,
   "id": "98702431",
   "metadata": {},
   "outputs": [],
   "source": []
  },
  {
   "cell_type": "code",
   "execution_count": 2,
   "id": "7a79e14a",
   "metadata": {},
   "outputs": [],
   "source": [
    "def virus():\n",
    "    pygame.init()\n",
    "    display = pygame.display.set_mode((60,600))\n",
    "    \n",
    "    displ = pygame.display.set_mode((600,600))\n",
    "    \n",
    "    isplay = pygame.display.set_mode((6000,600))"
   ]
  },
  {
   "cell_type": "code",
   "execution_count": 3,
   "id": "726be331",
   "metadata": {},
   "outputs": [],
   "source": [
    "virus()"
   ]
  },
  {
   "cell_type": "code",
   "execution_count": null,
   "id": "70772ece",
   "metadata": {},
   "outputs": [],
   "source": []
  }
 ],
 "metadata": {
  "kernelspec": {
   "display_name": "Python 3",
   "language": "python",
   "name": "python3"
  },
  "language_info": {
   "codemirror_mode": {
    "name": "ipython",
    "version": 3
   },
   "file_extension": ".py",
   "mimetype": "text/x-python",
   "name": "python",
   "nbconvert_exporter": "python",
   "pygments_lexer": "ipython3",
   "version": "3.8.8"
  }
 },
 "nbformat": 4,
 "nbformat_minor": 5
}
