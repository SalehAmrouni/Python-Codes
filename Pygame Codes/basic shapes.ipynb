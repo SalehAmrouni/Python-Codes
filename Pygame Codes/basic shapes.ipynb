{
 "cells": [
  {
   "cell_type": "code",
   "execution_count": 1,
   "id": "47fd18ef",
   "metadata": {},
   "outputs": [],
   "source": [
    "#import pygame\n",
    "#pygame.init()\n",
    "\n",
    "#black = (0,0,0)\n",
    "\n",
    "\n",
    "#dimensions = (600,600)\n",
    "\n",
    "#pygame.display.set_caption('basic shapes')\n",
    "\n",
    "\n",
    "#display = pygame.display.set_mode(dimensions)\n",
    "\n",
    "#display.fill(black)"
   ]
  },
  {
   "cell_type": "code",
   "execution_count": 2,
   "id": "45ac7121",
   "metadata": {},
   "outputs": [
    {
     "name": "stdout",
     "output_type": "stream",
     "text": [
      "pygame 2.0.1 (SDL 2.0.14, Python 3.8.8)\n",
      "Hello from the pygame community. https://www.pygame.org/contribute.html\n"
     ]
    }
   ],
   "source": [
    "#dont forget to pip install pygame for this to work\n",
    "#imports\n",
    "import pygame"
   ]
  },
  {
   "cell_type": "code",
   "execution_count": 3,
   "id": "17e7ddd8",
   "metadata": {},
   "outputs": [
    {
     "data": {
      "text/plain": [
       "(7, 0)"
      ]
     },
     "execution_count": 3,
     "metadata": {},
     "output_type": "execute_result"
    }
   ],
   "source": [
    "#initalize pygame\n",
    "pygame.init()"
   ]
  },
  {
   "cell_type": "code",
   "execution_count": 4,
   "id": "e61b4817",
   "metadata": {},
   "outputs": [],
   "source": [
    "#colors\n",
    "white = (255,255,255)\n",
    "black = (0,0,0)\n",
    "yellow = (255,255,0)\n",
    "red = (255,0,0)\n",
    "green = (0,255,0)\n",
    "random_color = (120,30,50)\n"
   ]
  },
  {
   "cell_type": "code",
   "execution_count": 5,
   "id": "401bbf6c",
   "metadata": {},
   "outputs": [],
   "source": [
    "#dimesions for display\n",
    "dimensions = (600,600)"
   ]
  },
  {
   "cell_type": "code",
   "execution_count": 6,
   "id": "7d3814f1",
   "metadata": {},
   "outputs": [],
   "source": [
    "#display for the game\n",
    "display = pygame.display.set_mode(dimensions)"
   ]
  },
  {
   "cell_type": "code",
   "execution_count": 7,
   "id": "4a3569b0",
   "metadata": {},
   "outputs": [],
   "source": [
    "#title for the game\n",
    "pygame.display.set_caption('Basic Shapes')"
   ]
  },
  {
   "cell_type": "code",
   "execution_count": 8,
   "id": "f48e805f",
   "metadata": {},
   "outputs": [
    {
     "data": {
      "text/plain": [
       "<rect(0, 0, 600, 600)>"
      ]
     },
     "execution_count": 8,
     "metadata": {},
     "output_type": "execute_result"
    }
   ],
   "source": [
    "#background color fill\n",
    "display.fill(white)"
   ]
  },
  {
   "cell_type": "code",
   "execution_count": 9,
   "id": "1a710bce",
   "metadata": {},
   "outputs": [
    {
     "data": {
      "text/plain": [
       "<rect(300, 300, 292, 278)>"
      ]
     },
     "execution_count": 9,
     "metadata": {},
     "output_type": "execute_result"
    }
   ],
   "source": [
    "#polygon draw\n",
    "#pygame.draw.polygon(display,Color,[(start_point, end_point, points_list])\n",
    "pygame.draw.polygon(display,yellow,[(466 ,300), (591 ,406),(536 ,577),(356 ,577), (300 ,406)])"
   ]
  },
  {
   "cell_type": "code",
   "execution_count": 10,
   "id": "89f4d402",
   "metadata": {},
   "outputs": [
    {
     "data": {
      "text/plain": [
       "<rect(0, 299, 600, 4)>"
      ]
     },
     "execution_count": 10,
     "metadata": {},
     "output_type": "execute_result"
    }
   ],
   "source": [
    "#draw a line \n",
    "#pygame.draw.line(display, color, start_point , end_point, thickness)\n",
    "pygame.draw.line(display, random_color, (0, 300), (600, 300),4)"
   ]
  },
  {
   "cell_type": "code",
   "execution_count": 11,
   "id": "506329dd",
   "metadata": {},
   "outputs": [
    {
     "data": {
      "text/plain": [
       "<rect(299, 0, 4, 600)>"
      ]
     },
     "execution_count": 11,
     "metadata": {},
     "output_type": "execute_result"
    }
   ],
   "source": [
    "#draw a line\n",
    "#pygame.draw.line(display, color, start_point , end_point, thickness)\n",
    "pygame.draw.line(display, random_color, (300, 0), (300, 600),4)"
   ]
  },
  {
   "cell_type": "code",
   "execution_count": 12,
   "id": "7c87a25b",
   "metadata": {},
   "outputs": [
    {
     "data": {
      "text/plain": [
       "<rect(100, 100, 100, 100)>"
      ]
     },
     "execution_count": 12,
     "metadata": {},
     "output_type": "execute_result"
    }
   ],
   "source": [
    "#draw a circle\n",
    "#pygame.draw.circle(display, color, (center_point), radius, thickness)\n",
    "pygame.draw.circle(display, red, (150, 150), 50, 0)"
   ]
  },
  {
   "cell_type": "code",
   "execution_count": 13,
   "id": "aee11121",
   "metadata": {},
   "outputs": [
    {
     "data": {
      "text/plain": [
       "<rect(400, 100, 100, 150)>"
      ]
     },
     "execution_count": 13,
     "metadata": {},
     "output_type": "execute_result"
    }
   ],
   "source": [
    "#draw a elipsse\n",
    "pygame.draw.ellipse(display, green, (400, 100,100,150),0)"
   ]
  },
  {
   "cell_type": "code",
   "execution_count": 14,
   "id": "9046797f",
   "metadata": {},
   "outputs": [
    {
     "data": {
      "text/plain": [
       "<rect(100, 400, 100, 100)>"
      ]
     },
     "execution_count": 14,
     "metadata": {},
     "output_type": "execute_result"
    }
   ],
   "source": [
    "#draw the sqaure\n",
    "pygame.draw.rect(display, black, (100,400,100,100))"
   ]
  },
  {
   "cell_type": "code",
   "execution_count": 15,
   "id": "1f4d0f29",
   "metadata": {},
   "outputs": [
    {
     "ename": "error",
     "evalue": "video system not initialized",
     "output_type": "error",
     "traceback": [
      "\u001b[1;31m---------------------------------------------------------------------------\u001b[0m",
      "\u001b[1;31merror\u001b[0m                                     Traceback (most recent call last)",
      "\u001b[1;32m<ipython-input-15-c92b83b77edc>\u001b[0m in \u001b[0;36m<module>\u001b[1;34m\u001b[0m\n\u001b[0;32m      4\u001b[0m             \u001b[0mpygame\u001b[0m\u001b[1;33m.\u001b[0m\u001b[0mquit\u001b[0m\u001b[1;33m(\u001b[0m\u001b[1;33m)\u001b[0m\u001b[1;33m\u001b[0m\u001b[1;33m\u001b[0m\u001b[0m\n\u001b[0;32m      5\u001b[0m             \u001b[0mquit\u001b[0m\u001b[1;33m(\u001b[0m\u001b[1;33m)\u001b[0m\u001b[1;33m\u001b[0m\u001b[1;33m\u001b[0m\u001b[0m\n\u001b[1;32m----> 6\u001b[1;33m         \u001b[0mpygame\u001b[0m\u001b[1;33m.\u001b[0m\u001b[0mdisplay\u001b[0m\u001b[1;33m.\u001b[0m\u001b[0mupdate\u001b[0m\u001b[1;33m(\u001b[0m\u001b[1;33m)\u001b[0m\u001b[1;33m\u001b[0m\u001b[1;33m\u001b[0m\u001b[0m\n\u001b[0m",
      "\u001b[1;31merror\u001b[0m: video system not initialized"
     ]
    }
   ],
   "source": [
    "#infinite loop for the game to work by making an infinite session\n",
    "while True:  \n",
    "    for event in pygame.event.get():\n",
    "        if event.type == pygame.QUIT:\n",
    "            pygame.quit()\n",
    "            quit()\n",
    "        pygame.display.update() "
   ]
  },
  {
   "cell_type": "code",
   "execution_count": null,
   "id": "bce74aac",
   "metadata": {},
   "outputs": [],
   "source": []
  }
 ],
 "metadata": {
  "kernelspec": {
   "display_name": "Python 3",
   "language": "python",
   "name": "python3"
  },
  "language_info": {
   "codemirror_mode": {
    "name": "ipython",
    "version": 3
   },
   "file_extension": ".py",
   "mimetype": "text/x-python",
   "name": "python",
   "nbconvert_exporter": "python",
   "pygments_lexer": "ipython3",
   "version": "3.8.8"
  }
 },
 "nbformat": 4,
 "nbformat_minor": 5
}
