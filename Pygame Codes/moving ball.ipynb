{
 "cells": [
  {
   "cell_type": "code",
   "execution_count": 1,
   "id": "0a279ea6",
   "metadata": {},
   "outputs": [
    {
     "name": "stdout",
     "output_type": "stream",
     "text": [
      "pygame 2.0.1 (SDL 2.0.14, Python 3.8.8)\n",
      "Hello from the pygame community. https://www.pygame.org/contribute.html\n"
     ]
    }
   ],
   "source": [
    "#imports\n",
    "import pygame"
   ]
  },
  {
   "cell_type": "code",
   "execution_count": 2,
   "id": "265bebc9",
   "metadata": {},
   "outputs": [],
   "source": [
    "#frames\n",
    "fps = 50"
   ]
  },
  {
   "cell_type": "code",
   "execution_count": 3,
   "id": "0e95e39a",
   "metadata": {},
   "outputs": [],
   "source": [
    "#colors\n",
    "white = (255,255,255)\n",
    "red = (255,0,0)"
   ]
  },
  {
   "cell_type": "code",
   "execution_count": 4,
   "id": "660f7b6a",
   "metadata": {},
   "outputs": [],
   "source": [
    "#clock for frames controll\n",
    "clock = pygame.time.Clock()"
   ]
  },
  {
   "cell_type": "code",
   "execution_count": 5,
   "id": "7cd997dc",
   "metadata": {},
   "outputs": [],
   "source": [
    "#size of window and display also title\n",
    "display = pygame.display.set_mode((500,500))\n",
    "pygame.display.set_caption('Moving Ball!!!')"
   ]
  },
  {
   "cell_type": "code",
   "execution_count": 6,
   "id": "f4908aaa",
   "metadata": {},
   "outputs": [
    {
     "data": {
      "text/plain": [
       "<rect(0, 0, 500, 500)>"
      ]
     },
     "execution_count": 6,
     "metadata": {},
     "output_type": "execute_result"
    }
   ],
   "source": [
    "#initalize pygame display and background fill\n",
    "pygame.init()\n",
    "display.fill(white)"
   ]
  },
  {
   "cell_type": "code",
   "execution_count": 7,
   "id": "43f052cc",
   "metadata": {},
   "outputs": [],
   "source": [
    "#coordnites\n",
    "x = 250\n",
    "y = 250\n",
    "#movement for right\n",
    "def move_right():\n",
    "    global x,y\n",
    "    \n",
    "    if x < 480:\n",
    "        x = x + 2\n",
    "    else:\n",
    "        x = 250\n",
    "        y = 250"
   ]
  },
  {
   "cell_type": "code",
   "execution_count": 8,
   "id": "34cf2479",
   "metadata": {},
   "outputs": [],
   "source": [
    "#move left\n",
    "def move_left():\n",
    "    global x,y\n",
    "    \n",
    "    if x > 20:\n",
    "        x = x - 2\n",
    "    else:\n",
    "        x = 250\n",
    "        y = 250"
   ]
  },
  {
   "cell_type": "code",
   "execution_count": 9,
   "id": "568c062d",
   "metadata": {},
   "outputs": [],
   "source": [
    "#move up\n",
    "def move_up():\n",
    "    global x,y\n",
    "    \n",
    "    if y > 20:\n",
    "        y = y - 2\n",
    "    else:\n",
    "        x = 250\n",
    "        y = 250"
   ]
  },
  {
   "cell_type": "code",
   "execution_count": 10,
   "id": "671c4b65",
   "metadata": {},
   "outputs": [],
   "source": [
    "#move down\n",
    "def move_down():\n",
    "    global x,y\n",
    "    \n",
    "    if y > 480:\n",
    "        y = y + 2\n",
    "    else:\n",
    "        x = 250\n",
    "        y = 250"
   ]
  },
  {
   "cell_type": "code",
   "execution_count": 11,
   "id": "f3932467",
   "metadata": {},
   "outputs": [],
   "source": [
    "#infinite loop for game and direction\n",
    "loop = True\n",
    "while loop:\n",
    "    \n",
    "    for event in pygame.event.get():\n",
    "        if event.type == pygame.QUIT:\n",
    "            loop = False\n",
    "    pygame.draw.circle(display, red,(x,y),20)\n",
    "    move_left() \n",
    "    pygame.display.update()\n",
    "    clock.tick(fps)\n",
    "    display.fill(white)\n",
    "pygame.quit()"
   ]
  },
  {
   "cell_type": "code",
   "execution_count": null,
   "id": "4097811d",
   "metadata": {},
   "outputs": [],
   "source": []
  },
  {
   "cell_type": "code",
   "execution_count": null,
   "id": "6f4a98f6",
   "metadata": {},
   "outputs": [],
   "source": []
  }
 ],
 "metadata": {
  "kernelspec": {
   "display_name": "Python 3",
   "language": "python",
   "name": "python3"
  },
  "language_info": {
   "codemirror_mode": {
    "name": "ipython",
    "version": 3
   },
   "file_extension": ".py",
   "mimetype": "text/x-python",
   "name": "python",
   "nbconvert_exporter": "python",
   "pygments_lexer": "ipython3",
   "version": "3.8.8"
  }
 },
 "nbformat": 4,
 "nbformat_minor": 5
}
