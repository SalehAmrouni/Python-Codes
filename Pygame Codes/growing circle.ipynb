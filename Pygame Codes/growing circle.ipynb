{
 "cells": [
  {
   "cell_type": "code",
   "execution_count": 1,
   "id": "ac897845",
   "metadata": {},
   "outputs": [
    {
     "name": "stdout",
     "output_type": "stream",
     "text": [
      "pygame 2.0.1 (SDL 2.0.14, Python 3.8.8)\n",
      "Hello from the pygame community. https://www.pygame.org/contribute.html\n"
     ]
    }
   ],
   "source": [
    "#import\n",
    "import pygame"
   ]
  },
  {
   "cell_type": "code",
   "execution_count": 2,
   "id": "8d91301c",
   "metadata": {},
   "outputs": [],
   "source": [
    "#frames\n",
    "fps = 60"
   ]
  },
  {
   "cell_type": "code",
   "execution_count": 3,
   "id": "865c47ee",
   "metadata": {},
   "outputs": [],
   "source": [
    "#color\n",
    "white = (255,255,255)\n",
    "red = (255,0,0)"
   ]
  },
  {
   "cell_type": "code",
   "execution_count": 4,
   "id": "0b1a4707",
   "metadata": {},
   "outputs": [],
   "source": [
    "#clock for frames\n",
    "clock = pygame.time.Clock()"
   ]
  },
  {
   "cell_type": "code",
   "execution_count": 5,
   "id": "814b9df1",
   "metadata": {},
   "outputs": [],
   "source": [
    "#display size and display and title\n",
    "display = pygame.display.set_mode((600,600))\n",
    "pygame.display.set_caption('GROWING CIRCLE')"
   ]
  },
  {
   "cell_type": "code",
   "execution_count": 6,
   "id": "7305126b",
   "metadata": {},
   "outputs": [
    {
     "data": {
      "text/plain": [
       "<rect(0, 0, 600, 600)>"
      ]
     },
     "execution_count": 6,
     "metadata": {},
     "output_type": "execute_result"
    }
   ],
   "source": [
    "#background fill and pygame initalize\n",
    "pygame.init()\n",
    "display.fill(white)"
   ]
  },
  {
   "cell_type": "code",
   "execution_count": 7,
   "id": "a05e70b0",
   "metadata": {},
   "outputs": [],
   "source": [
    "#radius of circle\n",
    "rad = 0.1"
   ]
  },
  {
   "cell_type": "code",
   "execution_count": 8,
   "id": "57ce0b6e",
   "metadata": {},
   "outputs": [],
   "source": [
    "#infinite loop\n",
    "loop = True\n",
    "while loop:\n",
    "    for event in pygame.event.get():\n",
    "        if event.type == pygame.QUIT:\n",
    "            loop = 0\n",
    "    pygame.draw.circle(display,red,(250, 250,),rad)\n",
    "    pygame.display.update() \n",
    "    \n",
    "    clock.tick(fps)\n",
    "    \n",
    "    rad = 1.01 * rad\n",
    "    display.fill(white)\n",
    "pygame.quit()    "
   ]
  },
  {
   "cell_type": "code",
   "execution_count": null,
   "id": "fc483a74",
   "metadata": {},
   "outputs": [],
   "source": []
  }
 ],
 "metadata": {
  "kernelspec": {
   "display_name": "Python 3",
   "language": "python",
   "name": "python3"
  },
  "language_info": {
   "codemirror_mode": {
    "name": "ipython",
    "version": 3
   },
   "file_extension": ".py",
   "mimetype": "text/x-python",
   "name": "python",
   "nbconvert_exporter": "python",
   "pygments_lexer": "ipython3",
   "version": "3.8.8"
  }
 },
 "nbformat": 4,
 "nbformat_minor": 5
}
