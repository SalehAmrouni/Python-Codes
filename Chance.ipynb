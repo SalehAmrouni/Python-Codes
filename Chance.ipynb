{
 "cells": [
  {
   "cell_type": "code",
   "execution_count": 1,
   "id": "96534143",
   "metadata": {},
   "outputs": [],
   "source": [
    "import random"
   ]
  },
  {
   "cell_type": "code",
   "execution_count": 5,
   "id": "ffd97799",
   "metadata": {},
   "outputs": [],
   "source": [
    "i = random.randint(1,50)"
   ]
  },
  {
   "cell_type": "code",
   "execution_count": 47,
   "id": "8514b5bc",
   "metadata": {},
   "outputs": [
    {
     "name": "stdout",
     "output_type": "stream",
     "text": [
      "theres a stranger he challenges you to a gun fight what do you say\n",
      "il\n",
      "chance is,\n",
      "1\n",
      "pow you have been SHOT\n"
     ]
    }
   ],
   "source": [
    "i = random.randint(1,50)\n",
    "print('theres a stranger he challenges you to a gun fight what do you say')\n",
    "l=input('')\n",
    "\n",
    "if l == 'yes':\n",
    "    if i <= 28:\n",
    "        print('pow you have been SHOT')\n",
    "    elif i >= 29:\n",
    "        print('YOU SHOOT HIM HE FALLS')\n",
    "if l == 'il':\n",
    "    print('chance is,')\n",
    "    print(i)\n",
    "    if i <= 28:\n",
    "        print('pow you have been SHOT')\n",
    "    elif i >= 29:\n",
    "        print('YOU SHOOT HIM HE FALLS')\n",
    "elif l=='no':\n",
    "    print('POW HE SHOOTS HE MISSES YOUR RUN')"
   ]
  },
  {
   "cell_type": "code",
   "execution_count": 37,
   "id": "993835b4",
   "metadata": {},
   "outputs": [
    {
     "data": {
      "text/plain": [
       "22"
      ]
     },
     "execution_count": 37,
     "metadata": {},
     "output_type": "execute_result"
    }
   ],
   "source": [
    "i"
   ]
  },
  {
   "cell_type": "code",
   "execution_count": null,
   "id": "acc11400",
   "metadata": {},
   "outputs": [],
   "source": []
  }
 ],
 "metadata": {
  "kernelspec": {
   "display_name": "Python 3",
   "language": "python",
   "name": "python3"
  },
  "language_info": {
   "codemirror_mode": {
    "name": "ipython",
    "version": 3
   },
   "file_extension": ".py",
   "mimetype": "text/x-python",
   "name": "python",
   "nbconvert_exporter": "python",
   "pygments_lexer": "ipython3",
   "version": "3.8.8"
  }
 },
 "nbformat": 4,
 "nbformat_minor": 5
}
